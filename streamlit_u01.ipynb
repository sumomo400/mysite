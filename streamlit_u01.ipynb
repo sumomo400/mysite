{
 "cells": [
  {
   "cell_type": "code",
   "execution_count": 1,
   "metadata": {},
   "outputs": [],
   "source": [
    "#pip install yfinance\n",
    "#pip install altair"
   ]
  },
  {
   "cell_type": "code",
   "execution_count": 27,
   "metadata": {},
   "outputs": [],
   "source": [
    "\n",
    "import pandas as pd\n",
    "import matplotlib.pyplot as plt\n",
    "import yfinance as yf\n",
    "\n",
    "%matplotlib inline"
   ]
  },
  {
   "cell_type": "code",
   "execution_count": 30,
   "metadata": {},
   "outputs": [
    {
     "name": "stderr",
     "output_type": "stream",
     "text": [
      "SPY: Period '20d' is invalid, must be one of ['1d', '5d', '1mo', '3mo', '6mo', '1y', '2y', '5y', '10y', 'ytd', 'max']\n",
      "QQQ: Period '20d' is invalid, must be one of ['1d', '5d', '1mo', '3mo', '6mo', '1y', '2y', '5y', '10y', 'ytd', 'max']\n",
      "VYM: Period '20d' is invalid, must be one of ['1d', '5d', '1mo', '3mo', '6mo', '1y', '2y', '5y', '10y', 'ytd', 'max']\n"
     ]
    }
   ],
   "source": [
    "days = 20\n",
    "tickers = {\n",
    "    'SPY':'SPY',\n",
    "    'QQQ':'QQQ',\n",
    "    'VYM':'VYM'\n",
    "    \n",
    "}\n",
    "\n",
    "df = pd.DataFrame()\n",
    "for company in tickers.keys():\n",
    "    tkr = yf.Ticker(tickers[company])\n",
    "    hist=tkr.history(period=f'{days}d')\n",
    "    hist = hist[['Close']]\n",
    "    hist.columns = [company]\n",
    "    hist = hist.T\n",
    "    hist.index.name='Name'\n",
    "    df=pd.concat([df,hist])\n",
    "\n"
   ]
  },
  {
   "cell_type": "code",
   "execution_count": 29,
   "metadata": {},
   "outputs": [
    {
     "data": {
      "text/html": [
       "<div>\n",
       "<style scoped>\n",
       "    .dataframe tbody tr th:only-of-type {\n",
       "        vertical-align: middle;\n",
       "    }\n",
       "\n",
       "    .dataframe tbody tr th {\n",
       "        vertical-align: top;\n",
       "    }\n",
       "\n",
       "    .dataframe thead th {\n",
       "        text-align: right;\n",
       "    }\n",
       "</style>\n",
       "<table border=\"1\" class=\"dataframe\">\n",
       "  <thead>\n",
       "    <tr style=\"text-align: right;\">\n",
       "      <th>Date</th>\n",
       "      <th>2024-09-23 00:00:00-04:00</th>\n",
       "      <th>2024-09-24 00:00:00-04:00</th>\n",
       "      <th>2024-09-25 00:00:00-04:00</th>\n",
       "      <th>2024-09-26 00:00:00-04:00</th>\n",
       "      <th>2024-09-27 00:00:00-04:00</th>\n",
       "    </tr>\n",
       "    <tr>\n",
       "      <th>Name</th>\n",
       "      <th></th>\n",
       "      <th></th>\n",
       "      <th></th>\n",
       "      <th></th>\n",
       "      <th></th>\n",
       "    </tr>\n",
       "  </thead>\n",
       "  <tbody>\n",
       "    <tr>\n",
       "      <th>SPY</th>\n",
       "      <td>569.669983</td>\n",
       "      <td>571.299988</td>\n",
       "      <td>570.039978</td>\n",
       "      <td>572.299988</td>\n",
       "      <td>571.469971</td>\n",
       "    </tr>\n",
       "    <tr>\n",
       "      <th>QQQ</th>\n",
       "      <td>483.040009</td>\n",
       "      <td>485.369995</td>\n",
       "      <td>485.820007</td>\n",
       "      <td>489.470001</td>\n",
       "      <td>486.750000</td>\n",
       "    </tr>\n",
       "    <tr>\n",
       "      <th>VYM</th>\n",
       "      <td>127.570000</td>\n",
       "      <td>127.730003</td>\n",
       "      <td>126.839996</td>\n",
       "      <td>127.400002</td>\n",
       "      <td>127.760002</td>\n",
       "    </tr>\n",
       "  </tbody>\n",
       "</table>\n",
       "</div>"
      ],
      "text/plain": [
       "Date  2024-09-23 00:00:00-04:00  2024-09-24 00:00:00-04:00  \\\n",
       "Name                                                         \n",
       "SPY                  569.669983                 571.299988   \n",
       "QQQ                  483.040009                 485.369995   \n",
       "VYM                  127.570000                 127.730003   \n",
       "\n",
       "Date  2024-09-25 00:00:00-04:00  2024-09-26 00:00:00-04:00  \\\n",
       "Name                                                         \n",
       "SPY                  570.039978                 572.299988   \n",
       "QQQ                  485.820007                 489.470001   \n",
       "VYM                  126.839996                 127.400002   \n",
       "\n",
       "Date  2024-09-27 00:00:00-04:00  \n",
       "Name                             \n",
       "SPY                  571.469971  \n",
       "QQQ                  486.750000  \n",
       "VYM                  127.760002  "
      ]
     },
     "execution_count": 29,
     "metadata": {},
     "output_type": "execute_result"
    }
   ],
   "source": [
    "df"
   ]
  },
  {
   "cell_type": "code",
   "execution_count": null,
   "metadata": {},
   "outputs": [],
   "source": []
  },
  {
   "cell_type": "code",
   "execution_count": null,
   "metadata": {},
   "outputs": [],
   "source": []
  },
  {
   "cell_type": "code",
   "execution_count": null,
   "metadata": {},
   "outputs": [],
   "source": []
  }
 ],
 "metadata": {
  "kernelspec": {
   "display_name": ".myenv1",
   "language": "python",
   "name": "python3"
  },
  "language_info": {
   "codemirror_mode": {
    "name": "ipython",
    "version": 3
   },
   "file_extension": ".py",
   "mimetype": "text/x-python",
   "name": "python",
   "nbconvert_exporter": "python",
   "pygments_lexer": "ipython3",
   "version": "3.12.5"
  }
 },
 "nbformat": 4,
 "nbformat_minor": 2
}
